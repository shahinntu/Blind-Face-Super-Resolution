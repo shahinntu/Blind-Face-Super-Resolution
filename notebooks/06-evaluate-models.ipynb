{
 "cells": [
  {
   "cell_type": "code",
   "execution_count": 1,
   "metadata": {},
   "outputs": [],
   "source": [
    "import os\n",
    "import sys\n",
    "\n",
    "from PIL import Image\n",
    "import torch\n",
    "\n",
    "sys.path.append(\"../\")\n",
    "from src import create_hf_val_dataset, Evaluator, AutoNetwork, InterpolatedNetwork"
   ]
  },
  {
   "cell_type": "code",
   "execution_count": 2,
   "metadata": {},
   "outputs": [],
   "source": [
    "val_data_dir = \"../data/val\"\n",
    "model_log_dir = \"../model_logs\""
   ]
  },
  {
   "cell_type": "code",
   "execution_count": 3,
   "metadata": {},
   "outputs": [],
   "source": [
    "hf_val_dataset = create_hf_val_dataset(val_data_dir)"
   ]
  },
  {
   "cell_type": "code",
   "execution_count": 4,
   "metadata": {},
   "outputs": [],
   "source": [
    "lq_imges = [Image.open(lq_image_path) for lq_image_path in hf_val_dataset[\"lq_image_path\"]]\n",
    "gt_images = [Image.open(gt_image_path) for gt_image_path in hf_val_dataset[\"gt_image_path\"]]"
   ]
  },
  {
   "cell_type": "code",
   "execution_count": 5,
   "metadata": {},
   "outputs": [],
   "source": [
    "device = \"cuda:0\" if torch.cuda.is_available() else \"cpu\""
   ]
  },
  {
   "cell_type": "markdown",
   "metadata": {},
   "source": [
    "# PSNR-based Model"
   ]
  },
  {
   "cell_type": "code",
   "execution_count": 6,
   "metadata": {},
   "outputs": [],
   "source": [
    "psnr_based_model_restore_version = \"train_240420182455\"\n",
    "psnr_based_model_log_dir = os.path.join(model_log_dir, psnr_based_model_restore_version)"
   ]
  },
  {
   "cell_type": "code",
   "execution_count": 7,
   "metadata": {},
   "outputs": [
    {
     "name": "stderr",
     "output_type": "stream",
     "text": [
      "/home/shahinshah/.pyenv/versions/3.10.13/envs/torch-env/lib/python3.10/site-packages/torch/functional.py:507: UserWarning: torch.meshgrid: in an upcoming release, it will be required to pass the indexing argument. (Triggered internally at ../aten/src/ATen/native/TensorShape.cpp:3549.)\n",
      "  return _VF.meshgrid(tensors, **kwargs)  # type: ignore[attr-defined]\n"
     ]
    }
   ],
   "source": [
    "psnr_based_model = AutoNetwork.from_pretrained(psnr_based_model_log_dir)"
   ]
  },
  {
   "cell_type": "code",
   "execution_count": 8,
   "metadata": {},
   "outputs": [],
   "source": [
    "psnr_based_model_evaluator = Evaluator(psnr_based_model, device)"
   ]
  },
  {
   "cell_type": "code",
   "execution_count": 9,
   "metadata": {},
   "outputs": [
    {
     "name": "stderr",
     "output_type": "stream",
     "text": [
      "Evaluating: 400it [00:30, 13.04it/s]\n"
     ]
    }
   ],
   "source": [
    "psnr_based_model_metrics = psnr_based_model_evaluator.evaluate(lq_imges, gt_images)"
   ]
  },
  {
   "cell_type": "code",
   "execution_count": 10,
   "metadata": {},
   "outputs": [
    {
     "name": "stdout",
     "output_type": "stream",
     "text": [
      "PSNR of PSNR-based model: 26.55\n"
     ]
    }
   ],
   "source": [
    "print(f\"PSNR of PSNR-based model: {psnr_based_model_metrics['psnr']:.2f}\")"
   ]
  },
  {
   "cell_type": "markdown",
   "metadata": {},
   "source": [
    "# GAN-based Model"
   ]
  },
  {
   "cell_type": "code",
   "execution_count": 20,
   "metadata": {},
   "outputs": [],
   "source": [
    "gan_based_model_restore_version = \"train_240422160848\"\n",
    "gan_based_model_log_dir = os.path.join(model_log_dir, gan_based_model_restore_version)"
   ]
  },
  {
   "cell_type": "code",
   "execution_count": 21,
   "metadata": {},
   "outputs": [],
   "source": [
    "gan_based_model = AutoNetwork.from_pretrained(gan_based_model_log_dir)"
   ]
  },
  {
   "cell_type": "code",
   "execution_count": 22,
   "metadata": {},
   "outputs": [],
   "source": [
    "gan_based_model_evaluator = Evaluator(gan_based_model, device)"
   ]
  },
  {
   "cell_type": "code",
   "execution_count": 23,
   "metadata": {},
   "outputs": [
    {
     "name": "stderr",
     "output_type": "stream",
     "text": [
      "Evaluating: 400it [00:27, 14.74it/s]\n"
     ]
    }
   ],
   "source": [
    "gan_based_model_metrics = gan_based_model_evaluator.evaluate(lq_imges, gt_images)"
   ]
  },
  {
   "cell_type": "code",
   "execution_count": 24,
   "metadata": {},
   "outputs": [
    {
     "name": "stdout",
     "output_type": "stream",
     "text": [
      "PSNR of GAN-based model: 25.26\n"
     ]
    }
   ],
   "source": [
    "print(f\"PSNR of GAN-based model: {gan_based_model_metrics['psnr']:.2f}\")"
   ]
  },
  {
   "cell_type": "markdown",
   "metadata": {},
   "source": [
    "# Interpolated Model"
   ]
  },
  {
   "cell_type": "code",
   "execution_count": 25,
   "metadata": {},
   "outputs": [],
   "source": [
    "interpolated_model = InterpolatedNetwork(psnr_based_model, gan_based_model, lambda_val=0.25)"
   ]
  },
  {
   "cell_type": "code",
   "execution_count": 26,
   "metadata": {},
   "outputs": [],
   "source": [
    "interpolated_model_evaluator = Evaluator(interpolated_model, device)"
   ]
  },
  {
   "cell_type": "code",
   "execution_count": 27,
   "metadata": {},
   "outputs": [
    {
     "name": "stderr",
     "output_type": "stream",
     "text": [
      "Evaluating: 400it [00:28, 14.11it/s]\n"
     ]
    }
   ],
   "source": [
    "interpolated_model_metrics = interpolated_model_evaluator.evaluate(lq_imges, gt_images)"
   ]
  },
  {
   "cell_type": "code",
   "execution_count": 28,
   "metadata": {},
   "outputs": [
    {
     "name": "stdout",
     "output_type": "stream",
     "text": [
      "PSNR of Interpolated model: 25.60\n"
     ]
    }
   ],
   "source": [
    "print(f\"PSNR of Interpolated model: {interpolated_model_metrics['psnr']:.2f}\")"
   ]
  }
 ],
 "metadata": {
  "kernelspec": {
   "display_name": "torch-env",
   "language": "python",
   "name": "python3"
  },
  "language_info": {
   "codemirror_mode": {
    "name": "ipython",
    "version": 3
   },
   "file_extension": ".py",
   "mimetype": "text/x-python",
   "name": "python",
   "nbconvert_exporter": "python",
   "pygments_lexer": "ipython3",
   "version": "3.10.13"
  }
 },
 "nbformat": 4,
 "nbformat_minor": 2
}

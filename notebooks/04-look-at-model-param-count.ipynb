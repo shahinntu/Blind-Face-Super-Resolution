{
 "cells": [
  {
   "cell_type": "code",
   "execution_count": 1,
   "metadata": {},
   "outputs": [],
   "source": [
    "import sys\n",
    "\n",
    "sys.path.append(\"../\")\n",
    "from src import Params, AutoNetwork"
   ]
  },
  {
   "cell_type": "code",
   "execution_count": 2,
   "metadata": {},
   "outputs": [],
   "source": [
    "def print_number_of_model_params(model):\n",
    "    model_params = 0\n",
    "    for _, param in model.named_parameters():\n",
    "        model_params += param.numel()\n",
    "    \n",
    "    print(f\"Model parameters: {model_params}\")"
   ]
  },
  {
   "cell_type": "markdown",
   "metadata": {},
   "source": [
    "# MSRResNet"
   ]
  },
  {
   "cell_type": "code",
   "execution_count": 3,
   "metadata": {},
   "outputs": [],
   "source": [
    "mssr_resnet_config = Params(\n",
    "    {\n",
    "        \"TYPE\": \"MSRResNet\",\n",
    "        \"NUM_IN_CH\": 3,\n",
    "        \"NUM_OUT_CH\": 3,\n",
    "        \"NUM_FEAT\": 64,\n",
    "        \"NUM_BLOCK\": 25,\n",
    "        \"UPSCALE\": 4,\n",
    "    }\n",
    ")"
   ]
  },
  {
   "cell_type": "code",
   "execution_count": 4,
   "metadata": {},
   "outputs": [],
   "source": [
    "mssr_resnet = AutoNetwork.from_config(mssr_resnet_config)"
   ]
  },
  {
   "cell_type": "code",
   "execution_count": 5,
   "metadata": {},
   "outputs": [
    {
     "name": "stdout",
     "output_type": "stream",
     "text": [
      "Model parameters: 2182275\n"
     ]
    }
   ],
   "source": [
    "print_number_of_model_params(mssr_resnet)"
   ]
  },
  {
   "cell_type": "markdown",
   "metadata": {},
   "source": [
    "# RRDBNet"
   ]
  },
  {
   "cell_type": "code",
   "execution_count": 6,
   "metadata": {},
   "outputs": [],
   "source": [
    "rrdbnet_config = Params(\n",
    "    {\n",
    "        \"TYPE\": \"RRDBNet\",\n",
    "        \"NUM_IN_CH\": 3,\n",
    "        \"NUM_OUT_CH\": 3,\n",
    "        \"UPSCALE\": 4,\n",
    "        \"NUM_FEAT\": 32,\n",
    "        \"NUM_BLOCK\": 12,\n",
    "        \"NUM_GROW_CH\": 16,\n",
    "    }\n",
    ")"
   ]
  },
  {
   "cell_type": "code",
   "execution_count": 7,
   "metadata": {},
   "outputs": [],
   "source": [
    "rrdbnet = AutoNetwork.from_config(rrdbnet_config)"
   ]
  },
  {
   "cell_type": "code",
   "execution_count": 8,
   "metadata": {},
   "outputs": [
    {
     "name": "stdout",
     "output_type": "stream",
     "text": [
      "Model parameters: 2198755\n"
     ]
    }
   ],
   "source": [
    "print_number_of_model_params(rrdbnet)"
   ]
  },
  {
   "cell_type": "markdown",
   "metadata": {},
   "source": [
    "# SwinIR"
   ]
  },
  {
   "cell_type": "code",
   "execution_count": 9,
   "metadata": {},
   "outputs": [],
   "source": [
    "swin_ir_config = Params(\n",
    "    {\n",
    "        \"TYPE\": \"SwinIR\",\n",
    "        \"UPSCALE\": 4,\n",
    "        \"IMG_SIZE\": [128, 128],\n",
    "        \"WINDOW_SIZE\": 8,\n",
    "        \"IMG_RANGE\": 1.0,\n",
    "        \"DEPTHS\": [6, 6, 6, 6, 6, 6],\n",
    "        \"EMBED_DIM\": 78,\n",
    "        \"NUM_HEADS\": [6, 6, 6, 6, 6, 6],\n",
    "        \"MLP_RATIO\": 2,\n",
    "        \"UPSAMPLER\": \"pixelshuffledirect\",\n",
    "        \"RESI_CONNECTION\": \"1conv\",\n",
    "    }\n",
    ")"
   ]
  },
  {
   "cell_type": "code",
   "execution_count": 10,
   "metadata": {},
   "outputs": [
    {
     "name": "stderr",
     "output_type": "stream",
     "text": [
      "/home/shahinshah/.pyenv/versions/3.10.13/envs/torch-env/lib/python3.10/site-packages/torch/functional.py:507: UserWarning: torch.meshgrid: in an upcoming release, it will be required to pass the indexing argument. (Triggered internally at ../aten/src/ATen/native/TensorShape.cpp:3549.)\n",
      "  return _VF.meshgrid(tensors, **kwargs)  # type: ignore[attr-defined]\n"
     ]
    }
   ],
   "source": [
    "swin_ir = AutoNetwork.from_config(swin_ir_config)"
   ]
  },
  {
   "cell_type": "code",
   "execution_count": 11,
   "metadata": {},
   "outputs": [
    {
     "name": "stdout",
     "output_type": "stream",
     "text": [
      "Model parameters: 2251758\n"
     ]
    }
   ],
   "source": [
    "print_number_of_model_params(swin_ir)"
   ]
  },
  {
   "cell_type": "markdown",
   "metadata": {},
   "source": [
    "# LatticeNet"
   ]
  },
  {
   "cell_type": "code",
   "execution_count": 12,
   "metadata": {},
   "outputs": [],
   "source": [
    "lattice_net_config = Params(\n",
    "    {\n",
    "        \"TYPE\": \"LatticeNet\",\n",
    "        \"N_FEATS\": 64,\n",
    "        \"UPSCALE\": 4,\n",
    "    }\n",
    ")"
   ]
  },
  {
   "cell_type": "code",
   "execution_count": 13,
   "metadata": {},
   "outputs": [],
   "source": [
    "lattice_net = AutoNetwork.from_config(lattice_net_config)"
   ]
  },
  {
   "cell_type": "code",
   "execution_count": 14,
   "metadata": {},
   "outputs": [
    {
     "name": "stdout",
     "output_type": "stream",
     "text": [
      "Model parameters: 776944\n"
     ]
    }
   ],
   "source": [
    "print_number_of_model_params(lattice_net)"
   ]
  },
  {
   "cell_type": "markdown",
   "metadata": {},
   "source": [
    "# ShuffleMixer"
   ]
  },
  {
   "cell_type": "code",
   "execution_count": 15,
   "metadata": {},
   "outputs": [],
   "source": [
    "shuffle_mixer_net_config = Params(\n",
    "    {\n",
    "        \"TYPE\": \"MobileSR\",\n",
    "        \"N_FEATS\": 120,\n",
    "        \"N_HEADS\": 24,\n",
    "        \"RATIOS\": [4, 2, 2, 2, 4],\n",
    "        \"UPSCALE\": 4,\n",
    "    }\n",
    ")"
   ]
  },
  {
   "cell_type": "code",
   "execution_count": 16,
   "metadata": {},
   "outputs": [],
   "source": [
    "shuffle_mixer_net = AutoNetwork.from_config(shuffle_mixer_net_config)"
   ]
  },
  {
   "cell_type": "code",
   "execution_count": 17,
   "metadata": {},
   "outputs": [
    {
     "name": "stdout",
     "output_type": "stream",
     "text": [
      "Model parameters: 1506843\n"
     ]
    }
   ],
   "source": [
    "print_number_of_model_params(shuffle_mixer_net)"
   ]
  },
  {
   "cell_type": "markdown",
   "metadata": {},
   "source": [
    "# UNetDiscriminatorSN"
   ]
  },
  {
   "cell_type": "code",
   "execution_count": 18,
   "metadata": {},
   "outputs": [],
   "source": [
    "unet_discriminator_config = Params(\n",
    "    {\n",
    "        \"TYPE\": \"UNetDiscriminatorSN\",\n",
    "        \"NUM_IN_CH\": 3,\n",
    "        \"NUM_FEAT\": 24,\n",
    "        \"SKIP_CONNECTION\": True,\n",
    "    }\n",
    ")"
   ]
  },
  {
   "cell_type": "code",
   "execution_count": 19,
   "metadata": {},
   "outputs": [],
   "source": [
    "unet_discriminator = AutoNetwork.from_config(unet_discriminator_config)"
   ]
  },
  {
   "cell_type": "code",
   "execution_count": 20,
   "metadata": {},
   "outputs": [
    {
     "name": "stdout",
     "output_type": "stream",
     "text": [
      "Model parameters: 616057\n"
     ]
    }
   ],
   "source": [
    "print_number_of_model_params(unet_discriminator)"
   ]
  }
 ],
 "metadata": {
  "kernelspec": {
   "display_name": "torch-env",
   "language": "python",
   "name": "python3"
  },
  "language_info": {
   "codemirror_mode": {
    "name": "ipython",
    "version": 3
   },
   "file_extension": ".py",
   "mimetype": "text/x-python",
   "name": "python",
   "nbconvert_exporter": "python",
   "pygments_lexer": "ipython3",
   "version": "3.10.13"
  }
 },
 "nbformat": 4,
 "nbformat_minor": 2
}

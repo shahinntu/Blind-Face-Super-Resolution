{
 "cells": [
  {
   "cell_type": "code",
   "execution_count": 1,
   "metadata": {},
   "outputs": [],
   "source": [
    "import os\n",
    "import sys\n",
    "\n",
    "from PIL import Image\n",
    "import torch\n",
    "from tqdm import tqdm\n",
    "\n",
    "sys.path.append(\"../\")\n",
    "from src import create_hf_test_dataset, Predictor, AutoNetwork, InterpolatedNetwork"
   ]
  },
  {
   "cell_type": "code",
   "execution_count": 2,
   "metadata": {},
   "outputs": [],
   "source": [
    "test_data_dir = \"../data/test\"\n",
    "test_real_data_dir = \"../data/test_real\"\n",
    "model_log_dir = \"../model_logs\"\n",
    "results_dir = \"../data/results\""
   ]
  },
  {
   "cell_type": "code",
   "execution_count": 3,
   "metadata": {},
   "outputs": [],
   "source": [
    "hf_test_dataset = create_hf_test_dataset(test_data_dir)"
   ]
  },
  {
   "cell_type": "code",
   "execution_count": 4,
   "metadata": {},
   "outputs": [],
   "source": [
    "lq_imges_dict = {lq_image_path.split(\"/\")[-1]: Image.open(lq_image_path) for lq_image_path in hf_test_dataset[\"lq_image_path\"]}"
   ]
  },
  {
   "cell_type": "code",
   "execution_count": 5,
   "metadata": {},
   "outputs": [],
   "source": [
    "device = \"cuda:0\" if torch.cuda.is_available() else \"cpu\""
   ]
  },
  {
   "cell_type": "code",
   "execution_count": 6,
   "metadata": {},
   "outputs": [],
   "source": [
    "def generate_and_save_results(predictor, save_dir):\n",
    "    for filename, lq_image in tqdm(lq_imges_dict.items(), desc=\"Generating results\"):\n",
    "        pred_image = predictor.predict(lq_image)\n",
    "        pred_image.save(os.path.join(save_dir, filename))"
   ]
  },
  {
   "cell_type": "markdown",
   "metadata": {},
   "source": [
    "# PSNR-based Model"
   ]
  },
  {
   "cell_type": "code",
   "execution_count": 7,
   "metadata": {},
   "outputs": [],
   "source": [
    "psnr_based_model_restore_version = \"train_240420182455\"\n",
    "psnr_based_model_log_dir = os.path.join(model_log_dir, psnr_based_model_restore_version)"
   ]
  },
  {
   "cell_type": "code",
   "execution_count": 8,
   "metadata": {},
   "outputs": [
    {
     "name": "stderr",
     "output_type": "stream",
     "text": [
      "/home/shahinshah/.pyenv/versions/3.10.13/envs/torch-env/lib/python3.10/site-packages/torch/functional.py:507: UserWarning: torch.meshgrid: in an upcoming release, it will be required to pass the indexing argument. (Triggered internally at ../aten/src/ATen/native/TensorShape.cpp:3549.)\n",
      "  return _VF.meshgrid(tensors, **kwargs)  # type: ignore[attr-defined]\n"
     ]
    }
   ],
   "source": [
    "psnr_based_model = AutoNetwork.from_pretrained(psnr_based_model_log_dir)"
   ]
  },
  {
   "cell_type": "code",
   "execution_count": 9,
   "metadata": {},
   "outputs": [],
   "source": [
    "psnr_based_model_predictor = Predictor(psnr_based_model, device)"
   ]
  },
  {
   "cell_type": "code",
   "execution_count": 10,
   "metadata": {},
   "outputs": [],
   "source": [
    "psnr_based_model_save_dir = os.path.join(results_dir, \"psnr_based\")"
   ]
  },
  {
   "cell_type": "code",
   "execution_count": 11,
   "metadata": {},
   "outputs": [
    {
     "name": "stderr",
     "output_type": "stream",
     "text": [
      "Generating results: 100%|██████████| 400/400 [00:43<00:00,  9.24it/s]\n"
     ]
    }
   ],
   "source": [
    "generate_and_save_results(psnr_based_model_predictor, psnr_based_model_save_dir)"
   ]
  },
  {
   "cell_type": "markdown",
   "metadata": {},
   "source": [
    "# GAN-based Model"
   ]
  },
  {
   "cell_type": "code",
   "execution_count": 12,
   "metadata": {},
   "outputs": [],
   "source": [
    "gan_based_model_restore_version = \"train_240422160848\"\n",
    "gan_based_model_log_dir = os.path.join(model_log_dir, gan_based_model_restore_version)"
   ]
  },
  {
   "cell_type": "code",
   "execution_count": 13,
   "metadata": {},
   "outputs": [],
   "source": [
    "gan_based_model = AutoNetwork.from_pretrained(gan_based_model_log_dir)"
   ]
  },
  {
   "cell_type": "code",
   "execution_count": 14,
   "metadata": {},
   "outputs": [],
   "source": [
    "gan_based_model_predictor = Predictor(gan_based_model, device)"
   ]
  },
  {
   "cell_type": "code",
   "execution_count": 15,
   "metadata": {},
   "outputs": [],
   "source": [
    "gan_based_model_save_dir = os.path.join(results_dir, \"gan_based\")"
   ]
  },
  {
   "cell_type": "code",
   "execution_count": 16,
   "metadata": {},
   "outputs": [
    {
     "name": "stderr",
     "output_type": "stream",
     "text": [
      "Generating results: 100%|██████████| 400/400 [00:46<00:00,  8.55it/s]\n"
     ]
    }
   ],
   "source": [
    "generate_and_save_results(gan_based_model_predictor, gan_based_model_save_dir)"
   ]
  },
  {
   "cell_type": "markdown",
   "metadata": {},
   "source": [
    "# Interpolated Model"
   ]
  },
  {
   "cell_type": "markdown",
   "metadata": {},
   "source": [
    "**Test Data**"
   ]
  },
  {
   "cell_type": "code",
   "execution_count": 17,
   "metadata": {},
   "outputs": [],
   "source": [
    "interpolated_model = InterpolatedNetwork(psnr_based_model, gan_based_model, lambda_val=0.25)"
   ]
  },
  {
   "cell_type": "code",
   "execution_count": 18,
   "metadata": {},
   "outputs": [],
   "source": [
    "interpolated_model_predictor = Predictor(interpolated_model, device)"
   ]
  },
  {
   "cell_type": "code",
   "execution_count": 19,
   "metadata": {},
   "outputs": [],
   "source": [
    "interpolated_model_save_dir = os.path.join(results_dir, \"interpolated\")"
   ]
  },
  {
   "cell_type": "code",
   "execution_count": 20,
   "metadata": {},
   "outputs": [
    {
     "name": "stderr",
     "output_type": "stream",
     "text": [
      "Generating results: 100%|██████████| 400/400 [00:49<00:00,  8.05it/s]\n"
     ]
    }
   ],
   "source": [
    "generate_and_save_results(interpolated_model_predictor, interpolated_model_save_dir)"
   ]
  },
  {
   "cell_type": "markdown",
   "metadata": {},
   "source": [
    "**Test Real Data**"
   ]
  },
  {
   "cell_type": "code",
   "execution_count": 21,
   "metadata": {},
   "outputs": [],
   "source": [
    "hf_test_real_dataset = create_hf_test_dataset(test_real_data_dir)"
   ]
  },
  {
   "cell_type": "code",
   "execution_count": 22,
   "metadata": {},
   "outputs": [],
   "source": [
    "real_lq_imges_dict = {lq_image_path.split(\"/\")[-1]: Image.open(lq_image_path) for lq_image_path in hf_test_real_dataset[\"lq_image_path\"]}"
   ]
  },
  {
   "cell_type": "code",
   "execution_count": 23,
   "metadata": {},
   "outputs": [],
   "source": [
    "interpolated_model_real_save_dir = os.path.join(results_dir, \"test_real_interpolated\")"
   ]
  },
  {
   "cell_type": "code",
   "execution_count": 24,
   "metadata": {},
   "outputs": [],
   "source": [
    "def generate_and_save_real_results(predictor, save_dir):\n",
    "    for filename, lq_image in tqdm(real_lq_imges_dict.items(), desc=\"Generating results\"):\n",
    "        pred_image = predictor.predict(lq_image)\n",
    "        pred_image.save(os.path.join(save_dir, filename))"
   ]
  },
  {
   "cell_type": "code",
   "execution_count": 25,
   "metadata": {},
   "outputs": [
    {
     "name": "stderr",
     "output_type": "stream",
     "text": [
      "Generating results: 100%|██████████| 6/6 [00:00<00:00,  7.92it/s]\n"
     ]
    }
   ],
   "source": [
    "generate_and_save_real_results(interpolated_model_predictor, interpolated_model_real_save_dir)"
   ]
  }
 ],
 "metadata": {
  "kernelspec": {
   "display_name": "torch-env",
   "language": "python",
   "name": "python3"
  },
  "language_info": {
   "codemirror_mode": {
    "name": "ipython",
    "version": 3
   },
   "file_extension": ".py",
   "mimetype": "text/x-python",
   "name": "python",
   "nbconvert_exporter": "python",
   "pygments_lexer": "ipython3",
   "version": "3.10.13"
  }
 },
 "nbformat": 4,
 "nbformat_minor": 2
}
